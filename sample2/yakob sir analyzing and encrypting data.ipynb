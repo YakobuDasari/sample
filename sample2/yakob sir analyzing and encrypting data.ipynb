{
 "cells": [
  {
   "cell_type": "code",
   "execution_count": 2,
   "metadata": {},
   "outputs": [
    {
     "name": "stdout",
     "output_type": "stream",
     "text": [
      "9.\tLibrary Management System(Lms): The goal is to enable students and librarians to easily access and manage the library and run it smoothly. Each item3 library item - item0, tape cassette, CD, DVD, item1. could have its own item item2. To support it, the items may be barcoded. The purpose of barcoding is to provide a unique and scannable identifier that links the barcoded item3 item to the electronic record in the catalog. Barcode must be item3ly attached to the item, and barcode item2 is entered into the corresponding field in the electronic item record. Barcodes on library items could be replaced by RFID tags. The RFID tag can contain itemâ€™s identifier, title, material type, item1. It is read by an RFID reader, without the need to open a item0 cover or CD/DVD case to scan it with barcode reader.\n"
     ]
    }
   ],
   "source": [
    "file = open(\"C:\\\\Users\\\\Ashu\\\\Desktop\\\\Project\\\\sample2\\\\sample2.txt\",\"r\",encoding='cp1252')\n",
    "file1= file.read()\n",
    "print(file1)\n",
    "#print(file)"
   ]
  },
  {
   "cell_type": "code",
   "execution_count": 3,
   "metadata": {},
   "outputs": [],
   "source": [
    "import string\n",
    "url = \"C://Users//Ashu//Desktop//Project//sample2//sample2.txt\"\n",
    "url2 = \"C://Users//Ashu//Desktop//Project//sample2//lowercase.txt\"\n",
    "new_file = open(url2, 'w')\n",
    "with open(url, 'r') as fileinput:\n",
    "    for line in fileinput:\n",
    "        #line1=line.read()\n",
    "        line2 = line.lower()\n",
    "        new_file.write(line2)\n",
    "        #print(new_file)\n",
    "        #print(line2)\n",
    "new_file.close()\n",
    "       "
   ]
  },
  {
   "cell_type": "code",
   "execution_count": 4,
   "metadata": {},
   "outputs": [],
   "source": [
    "import string\n",
    "#for i in range(1,1535):\n",
    "url = \"C:\\\\Users\\\\Ashu\\\\Desktop\\\\Project\\\\sample2\\\\lowercase.txt\"\n",
    "url2 = \"C:\\\\Users\\\\Ashu\\\\Desktop\\\\Project\\\\sample2\\\\specialchar.txt\"\n",
    "new_file = open(url2, 'w')\n",
    "remove = dict.fromkeys(map(ord,string.punctuation))\n",
    "with open(url,\"r\") as inputfile:\n",
    "    f = inputfile.read().translate(remove)\n",
    "    new_file.write(str(f))\n",
    "new_file.close()\n",
    "        #print(f)"
   ]
  },
  {
   "cell_type": "code",
   "execution_count": 5,
   "metadata": {},
   "outputs": [
    {
     "name": "stderr",
     "output_type": "stream",
     "text": [
      "[nltk_data] Downloading package punkt to\n",
      "[nltk_data]     C:\\Users\\Ashu\\AppData\\Roaming\\nltk_data...\n",
      "[nltk_data]   Package punkt is already up-to-date!\n"
     ]
    },
    {
     "data": {
      "text/plain": [
       "True"
      ]
     },
     "execution_count": 5,
     "metadata": {},
     "output_type": "execute_result"
    }
   ],
   "source": [
    "import nltk\n",
    "nltk.download('punkt')"
   ]
  },
  {
   "cell_type": "code",
   "execution_count": 6,
   "metadata": {},
   "outputs": [
    {
     "name": "stderr",
     "output_type": "stream",
     "text": [
      "[nltk_data] Downloading package averaged_perceptron_tagger to\n",
      "[nltk_data]     C:\\Users\\Ashu\\AppData\\Roaming\\nltk_data...\n",
      "[nltk_data]   Package averaged_perceptron_tagger is already up-to-\n",
      "[nltk_data]       date!\n"
     ]
    },
    {
     "data": {
      "text/plain": [
       "True"
      ]
     },
     "execution_count": 6,
     "metadata": {},
     "output_type": "execute_result"
    }
   ],
   "source": [
    "nltk.download('averaged_perceptron_tagger')"
   ]
  },
  {
   "cell_type": "code",
   "execution_count": 7,
   "metadata": {},
   "outputs": [
    {
     "name": "stderr",
     "output_type": "stream",
     "text": [
      "[nltk_data] Downloading package wordnet to\n",
      "[nltk_data]     C:\\Users\\Ashu\\AppData\\Roaming\\nltk_data...\n",
      "[nltk_data]   Package wordnet is already up-to-date!\n"
     ]
    },
    {
     "data": {
      "text/plain": [
       "True"
      ]
     },
     "execution_count": 7,
     "metadata": {},
     "output_type": "execute_result"
    }
   ],
   "source": [
    "nltk.download('wordnet')"
   ]
  },
  {
   "cell_type": "code",
   "execution_count": 8,
   "metadata": {},
   "outputs": [],
   "source": [
    "import nltk\n",
    "from nltk.stem import WordNetLemmatizer\n",
    "from nltk.corpus import wordnet\n",
    "\n",
    "class Splitter(object):\n",
    "    \n",
    "    def __init__(self):\n",
    "        self.splitter = nltk.data.load('tokenizers/punkt/english.pickle')\n",
    "        self.tokenizer = nltk.tokenize.TreebankWordTokenizer()\n",
    "\n",
    "    def split(self,text):\n",
    "        sentences = self.splitter.tokenize(text)\n",
    "        tokens = [self.tokenizer.tokenize(sent) for sent in sentences]\n",
    "        return tokens\n",
    "\n",
    "\n",
    "class LemmatizationWithPOSTagger(object):\n",
    "    def __init__(self):\n",
    "        pass\n",
    "    def get_wordnet_pos(self,treebank_tag):\n",
    "        \n",
    "        if treebank_tag.startswith('J'):\n",
    "            return wordnet.ADJ\n",
    "        elif treebank_tag.startswith('V'):\n",
    "            return wordnet.VERB\n",
    "        elif treebank_tag.startswith('N'):\n",
    "            return wordnet.NOUN\n",
    "        elif treebank_tag.startswith('R'):\n",
    "            return wordnet.ADV\n",
    "        else:\n",
    "            # As default pos in lemmatization is Noun\n",
    "            return wordnet.NOUN\n",
    "\n",
    "    def pos_tag(self,tokens):\n",
    "        \n",
    "        pos_tokens = [nltk.pos_tag(token) for token in tokens]\n",
    "\n",
    "        for pos in pos_tokens:       \n",
    "            pos_tokens =  [(lemmatizer.lemmatize(word,self.get_wordnet_pos(pos_tag))) for (word,pos_tag) in pos] \n",
    "            join = \" \".join(pos_tokens)\n",
    "        return join\n",
    "\n",
    "lemmatizer = WordNetLemmatizer()\n",
    "splitter = Splitter()\n",
    "lemmatization_using_pos_tagger = LemmatizationWithPOSTagger()\n",
    "#for i in range(1,1535):\n",
    "url = \"C:\\\\Users\\\\Ashu\\\\Desktop\\\\Project\\\\sample2\\\\specialchar.txt\"\n",
    "url1 = \"C:\\\\Users\\\\Ashu\\\\Desktop\\\\Project\\\\sample2\\\\lemmatization1.txt\"\n",
    "newfile = open(url1,\"w\")\n",
    "with open(url, \"r\") as f:\n",
    "    file = f.read()\n",
    "    tokens = splitter.split(file)\n",
    "    lemma_pos_token = lemmatization_using_pos_tagger.pos_tag(tokens)\n",
    "    newfile.write(lemma_pos_token)\n",
    "new_file.close()\n"
   ]
  },
  {
   "cell_type": "code",
   "execution_count": 9,
   "metadata": {},
   "outputs": [
    {
     "name": "stderr",
     "output_type": "stream",
     "text": [
      "[nltk_data] Downloading package stopwords to\n",
      "[nltk_data]     C:\\Users\\Ashu\\AppData\\Roaming\\nltk_data...\n",
      "[nltk_data]   Package stopwords is already up-to-date!\n"
     ]
    },
    {
     "data": {
      "text/plain": [
       "True"
      ]
     },
     "execution_count": 9,
     "metadata": {},
     "output_type": "execute_result"
    }
   ],
   "source": [
    "nltk.download('stopwords')"
   ]
  },
  {
   "cell_type": "code",
   "execution_count": 10,
   "metadata": {},
   "outputs": [],
   "source": [
    "import io\n",
    "from nltk.corpus import stopwords\n",
    "#from nltk.tokenize import word_tokenize\n",
    "#word_tokenize accepts a string as an input, not a file.\n",
    "#for i\n",
    "stop_words = stopwords.words('english')\n",
    "\n",
    "\n",
    "url = \"C:\\\\Users\\\\Ashu\\\\Desktop\\\\Project\\\\sample2\\\\lemmatization1.txt\"\n",
    "url2 = \"C:\\\\Users\\\\Ashu\\\\Desktop\\\\Project\\\\sample2\\\\stopwords.txt\"\n",
    "file1 = open(url,\"r\")\n",
    "line = file1.read()# Use this to read file content as a stream:\n",
    "words = line.split()\n",
    "#stop_words = set(stopwords.words('english'))\n",
    "for r in words:\n",
    "    if not r in stop_words:\n",
    "        appendFile = open(url2,'a')\n",
    "        appendFile.write(\" \"+r)\n",
    "        appendFile.close()\n"
   ]
  },
  {
   "cell_type": "code",
   "execution_count": 11,
   "metadata": {},
   "outputs": [],
   "source": [
    "doc_complete = []\n",
    "#for i in range(1,1948):\n",
    "url = open(\"C:\\\\Users\\\\Ashu\\\\Desktop\\\\Project\\\\sample2\\\\stopwords.txt\", 'r')\n",
    "paragraph = url.read()\n",
    "file1=[paragraph]\n",
    "#print(file1)\n",
    "#doc_complete = doc_complete.append(paragraph)\n",
    "#print(paragraph)\n",
    "\n",
    "from nltk.stem.wordnet import WordNetLemmatizer\n",
    "import string\n",
    "lemma = WordNetLemmatizer()\n",
    "def clean(doc):\n",
    "    normalized = \" \".join(lemma.lemmatize(word) for word in doc.split())\n",
    "    return normalized\n",
    "\n",
    "doc_clean = [clean(doc).split() for doc in file1] \n"
   ]
  },
  {
   "cell_type": "code",
   "execution_count": 12,
   "metadata": {},
   "outputs": [
    {
     "data": {
      "text/plain": [
       "[['9',\n",
       "  'library',\n",
       "  'management',\n",
       "  'systemlms',\n",
       "  'goal',\n",
       "  'enable',\n",
       "  'student',\n",
       "  'librarian',\n",
       "  'easily',\n",
       "  'access',\n",
       "  'manage',\n",
       "  'library',\n",
       "  'run',\n",
       "  'smoothly',\n",
       "  'physical',\n",
       "  'library',\n",
       "  'item',\n",
       "  'book',\n",
       "  'tape',\n",
       "  'cassette',\n",
       "  'cd',\n",
       "  'dvd',\n",
       "  'etc',\n",
       "  'could',\n",
       "  'item',\n",
       "  'number',\n",
       "  'support',\n",
       "  'item',\n",
       "  'may',\n",
       "  'barcoded',\n",
       "  'purpose',\n",
       "  'barcoding',\n",
       "  'provide',\n",
       "  'unique',\n",
       "  'scannable',\n",
       "  'identifier',\n",
       "  'link',\n",
       "  'barcoded',\n",
       "  'physical',\n",
       "  'item',\n",
       "  'electronic',\n",
       "  'record',\n",
       "  'catalog',\n",
       "  'barcode',\n",
       "  'must',\n",
       "  'physically',\n",
       "  'attach',\n",
       "  'item',\n",
       "  'barcode',\n",
       "  'number',\n",
       "  'enter',\n",
       "  'corresponding',\n",
       "  'field',\n",
       "  'electronic',\n",
       "  'item',\n",
       "  'record',\n",
       "  'barcodes',\n",
       "  'library',\n",
       "  'item',\n",
       "  'could',\n",
       "  'replace',\n",
       "  'rfid',\n",
       "  'tag',\n",
       "  'rfid',\n",
       "  'tag',\n",
       "  'contain',\n",
       "  'itemâ€™s',\n",
       "  'identifier',\n",
       "  'title',\n",
       "  'material',\n",
       "  'type',\n",
       "  'etc',\n",
       "  'read',\n",
       "  'rfid',\n",
       "  'reader',\n",
       "  'without',\n",
       "  'need',\n",
       "  'open',\n",
       "  'book',\n",
       "  'cover',\n",
       "  'cddvd',\n",
       "  'case',\n",
       "  'scan',\n",
       "  'barcode',\n",
       "  'reader']]"
      ]
     },
     "execution_count": 12,
     "metadata": {},
     "output_type": "execute_result"
    }
   ],
   "source": [
    "doc_clean"
   ]
  },
  {
   "cell_type": "code",
   "execution_count": 13,
   "metadata": {},
   "outputs": [],
   "source": [
    "import gensim\n",
    "from gensim import corpora\n",
    "\n",
    "# Creating the term dictionary of our courpus, where every unique term is assigned an index. dictionary = corpora.Dictionary(doc_clean)\n",
    "dictionary = corpora.Dictionary(doc_clean)\n",
    "# Converting list of documents (corpus) into Document Term Matrix using dictionary prepared above.\n",
    "doc_term_matrix = [dictionary.doc2bow(doc) for doc in doc_clean]"
   ]
  },
  {
   "cell_type": "code",
   "execution_count": 14,
   "metadata": {},
   "outputs": [
    {
     "data": {
      "text/plain": [
       "[[(0, 1),\n",
       "  (1, 1),\n",
       "  (2, 1),\n",
       "  (3, 3),\n",
       "  (4, 2),\n",
       "  (5, 1),\n",
       "  (6, 1),\n",
       "  (7, 2),\n",
       "  (8, 1),\n",
       "  (9, 1),\n",
       "  (10, 1),\n",
       "  (11, 1),\n",
       "  (12, 1),\n",
       "  (13, 1),\n",
       "  (14, 1),\n",
       "  (15, 2),\n",
       "  (16, 1),\n",
       "  (17, 1),\n",
       "  (18, 1),\n",
       "  (19, 2),\n",
       "  (20, 1),\n",
       "  (21, 1),\n",
       "  (22, 2),\n",
       "  (23, 1),\n",
       "  (24, 1),\n",
       "  (25, 2),\n",
       "  (26, 7),\n",
       "  (27, 1),\n",
       "  (28, 1),\n",
       "  (29, 4),\n",
       "  (30, 1),\n",
       "  (31, 1),\n",
       "  (32, 1),\n",
       "  (33, 1),\n",
       "  (34, 1),\n",
       "  (35, 1),\n",
       "  (36, 1),\n",
       "  (37, 2),\n",
       "  (38, 1),\n",
       "  (39, 2),\n",
       "  (40, 1),\n",
       "  (41, 1),\n",
       "  (42, 1),\n",
       "  (43, 1),\n",
       "  (44, 2),\n",
       "  (45, 2),\n",
       "  (46, 1),\n",
       "  (47, 3),\n",
       "  (48, 1),\n",
       "  (49, 1),\n",
       "  (50, 1),\n",
       "  (51, 1),\n",
       "  (52, 1),\n",
       "  (53, 1),\n",
       "  (54, 1),\n",
       "  (55, 2),\n",
       "  (56, 1),\n",
       "  (57, 1),\n",
       "  (58, 1),\n",
       "  (59, 1),\n",
       "  (60, 1)]]"
      ]
     },
     "execution_count": 14,
     "metadata": {},
     "output_type": "execute_result"
    }
   ],
   "source": [
    "doc_term_matrix"
   ]
  },
  {
   "cell_type": "code",
   "execution_count": 15,
   "metadata": {},
   "outputs": [],
   "source": [
    "Lda = gensim.models.ldamodel.LdaModel\n",
    "\n",
    "# Running and Trainign LDA model on the document term matrix.\n",
    "ldamodel = Lda(doc_term_matrix, num_topics=2, id2word = dictionary, passes=50)"
   ]
  },
  {
   "cell_type": "code",
   "execution_count": 16,
   "metadata": {},
   "outputs": [
    {
     "name": "stdout",
     "output_type": "stream",
     "text": [
      "[(0, '0.016*\"item\" + 0.016*\"library\" + 0.016*\"rfid\" + 0.016*\"barcode\" + 0.016*\"tag\" + 0.016*\"reader\" + 0.016*\"identifier\" + 0.016*\"could\" + 0.016*\"physical\" + 0.016*\"electronic\"'), (1, '0.065*\"item\" + 0.039*\"library\" + 0.030*\"rfid\" + 0.030*\"barcode\" + 0.022*\"book\" + 0.022*\"etc\" + 0.022*\"number\" + 0.022*\"barcoded\" + 0.022*\"could\" + 0.022*\"identifier\"')]\n"
     ]
    }
   ],
   "source": [
    "print(ldamodel.print_topics(num_topics=2, num_words=10))"
   ]
  },
  {
   "cell_type": "code",
   "execution_count": 17,
   "metadata": {},
   "outputs": [
    {
     "name": "stdout",
     "output_type": "stream",
     "text": [
      "[(0, '0.016*\"item\" + 0.016*\"library\" + 0.016*\"rfid\" + 0.016*\"barcode\" + 0.016*\"tag\" + 0.016*\"reader\" + 0.016*\"identifier\" + 0.016*\"could\" + 0.016*\"physical\" + 0.016*\"electronic\"'), (1, '0.065*\"item\" + 0.039*\"library\" + 0.030*\"rfid\" + 0.030*\"barcode\" + 0.022*\"book\" + 0.022*\"etc\" + 0.022*\"number\" + 0.022*\"barcoded\" + 0.022*\"could\" + 0.022*\"identifier\"')]\n",
      "<_io.TextIOWrapper name='C:\\\\Users\\\\Ashu\\\\Desktop\\\\Project\\\\sample2\\\\lda1.txt' mode='w' encoding='cp1252'>\n"
     ]
    }
   ],
   "source": [
    "list1 = []\n",
    "f=open(\"C:\\\\Users\\\\Ashu\\\\Desktop\\\\Project\\\\sample2\\\\lda1.txt\",'w')\n",
    "list2 =(ldamodel.print_topics(num_topics=2, num_words=10))\n",
    "#print(list2)\n",
    "list2=str(list2)\n",
    "print(list2)\n",
    "f.write(list2)\n",
    "print(f)"
   ]
  },
  {
   "cell_type": "code",
   "execution_count": 18,
   "metadata": {},
   "outputs": [
    {
     "name": "stdout",
     "output_type": "stream",
     "text": [
      "item\n",
      "\n",
      "library\n",
      "\n",
      "rfid\n",
      "\n",
      "barcode\n",
      "\n",
      "could\n",
      "\n",
      "electronic\n",
      "\n",
      "reader\n",
      "\n",
      "barcoded\n",
      "\n",
      "record\n",
      "\n",
      "book\n",
      "\n",
      "etc\n",
      "\n",
      "number\n",
      "\n",
      "physical\n",
      "\n"
     ]
    }
   ],
   "source": [
    "with open(\"C:\\\\Users\\\\Ashu\\\\Desktop\\\\Project\\\\sample2\\\\result21.csv\",'r') as in_file, open(\"C:\\\\Users\\\\Ashu\\\\Desktop\\\\Project\\\\sample2\\\\result221.csv\",'w',encoding=\"utf-8\") as out_file:\n",
    "    seen = set() # set for fast O(1) amortized lookup\n",
    "    for line in in_file:\n",
    "        if line in seen: continue # skip duplicate\n",
    "        print(line)\n",
    "        seen.add(line)\n",
    "        out_file.write(line)"
   ]
  },
  {
   "cell_type": "code",
   "execution_count": 50,
   "metadata": {},
   "outputs": [
    {
     "name": "stdout",
     "output_type": "stream",
     "text": [
      "{'item': 17, 'library': 3, 'barcode': 4, 'could': 2, 'electronic': 2, 'reader': 2, 'barcoded': 2, 'record': 2}\n"
     ]
    }
   ],
   "source": [
    "accu_1 = {}\n",
    "data = open(\"C:\\\\Users\\\\Ashu\\\\Desktop\\\\Project\\\\sample2\\\\sample2.txt\",\"r\")\n",
    "file = data.read()\n",
    "\n",
    "word_data = open(\"C:\\\\Users\\\\Ashu\\\\Desktop\\\\Project\\\\sample2\\\\result221.csv\", 'r')\n",
    "data = word_data.read()\n",
    "words = data.split(\"\\n\")\n",
    "words.remove('')\n",
    "for i in words:\n",
    "    if i in file:\n",
    "        accu_1[i] = file.count(i)  \n",
    "print(accu_1)"
   ]
  },
  {
   "cell_type": "code",
   "execution_count": 47,
   "metadata": {},
   "outputs": [
    {
     "name": "stdout",
     "output_type": "stream",
     "text": [
      "9.\tLibrary Management System(Lms): The goal is to enable students and librarians to easily access and manage the s2word2 and run it smoothly. Each s2word13 s2word2 s2word1 - s2word10, tape cassette, CD, DVD, s2word11. s2word5 have its own s2word1 s2word12. To support it, the s2word1s may be s2word4d. The purpose of barcoding is to provide a unique and scannable identifier that links the s2word4d s2word13 s2word1 to the s2word6 s2word9 in the catalog. Barcode must be s2word13ly attached to the s2word1, and s2word4 s2word12 is entered into the corresponding field in the s2word6 s2word1 s2word9. Barcodes on s2word2 s2word1s s2word5 be replaced by RFID tags. The RFID tag can contain s2word1â€™s identifier, title, material type, s2word11. It is read by an RFID s2word7, without the need to open a s2word10 cover or CD/DVD case to scan it with s2word4 s2word7.\n",
      "Time Consumed :  0.2643303871154785\n"
     ]
    }
   ],
   "source": [
    "import time\n",
    "start_time = time.time()\n",
    "x=[]\n",
    "y=[]\n",
    "with open(\"C:\\\\Users\\\\Ashu\\\\Desktop\\\\Project\\\\sample2\\\\result221.csv\", 'r') as filehandle:  \n",
    "    filecontents = filehandle.readlines()\n",
    "    for line in filecontents:\n",
    "        current_place = line[:-1]\n",
    "        x.append(current_place)\n",
    "\n",
    "with open(\"C:\\\\Users\\\\Ashu\\\\Desktop\\\\Project\\\\sample2\\\\Dictionary1.txt\", 'r') as filehandle:  \n",
    "    filecontents = filehandle.readlines()\n",
    "    for line in filecontents:\n",
    "        current_place = line[:-1]\n",
    "        y.append(current_place)\n",
    "\n",
    "s = open(\"C:\\\\Users\\\\Ashu\\\\Desktop\\\\Project\\\\sample2\\\\sample2.txt\").read()\n",
    "for i in range(len(x)):\n",
    "    s = s.replace(x[i],y[i])\n",
    "    f = open(\"C:\\\\Users\\\\Ashu\\\\Desktop\\\\Project\\\\sample2\\\\sample2.txt\", 'w')\n",
    "    f.write(s)\n",
    "    f.close()\n",
    "print(s)\n",
    "elapsed_time = time.time() - start_time\n",
    "print(\"Time Consumed : \",elapsed_time)"
   ]
  },
  {
   "cell_type": "code",
   "execution_count": 48,
   "metadata": {},
   "outputs": [
    {
     "name": "stdout",
     "output_type": "stream",
     "text": [
      "9.\tLibrary Management System(Lms): The goal is to enable students and librarians to easily access and manage the library and run it smoothly. Each item3 library item - item0, tape cassette, CD, DVD, item1. could have its own item item2. To support it, the items may be barcoded. The purpose of barcoding is to provide a unique and scannable identifier that links the barcoded item3 item to the electronic record in the catalog. Barcode must be item3ly attached to the item, and barcode item2 is entered into the corresponding field in the electronic item record. Barcodes on library items could be replaced by RFID tags. The RFID tag can contain itemâ€™s identifier, title, material type, item1. It is read by an RFID reader, without the need to open a item0 cover or CD/DVD case to scan it with barcode reader.\n",
      "Time Consumed :  0.016001462936401367\n"
     ]
    }
   ],
   "source": [
    "import time\n",
    "start_time = time.time()\n",
    "x=[]\n",
    "y=[]\n",
    "with open(\"C:\\\\Users\\\\Ashu\\\\Desktop\\\\Project\\\\sample2\\\\result221.csv\", 'r') as filehandle:  \n",
    "    filecontents = filehandle.readlines()\n",
    "    for line in filecontents:\n",
    "        current_place = line[:-1]\n",
    "        x.append(current_place)\n",
    "\n",
    "with open(\"C:\\\\Users\\\\Ashu\\\\Desktop\\\\Project\\\\sample2\\\\Dictionary1.txt\", 'r') as filehandle:  \n",
    "    filecontents = filehandle.readlines()\n",
    "    for line in filecontents:\n",
    "        current_place = line[:-1]\n",
    "        y.append(current_place)\n",
    "\n",
    "s = open(\"C:\\\\Users\\\\Ashu\\\\Desktop\\\\Project\\\\sample2\\\\sample2.txt\").read()\n",
    "for i in range(len(x)):\n",
    "    s = s.replace(y[i],x[i])\n",
    "    f = open(\"C:\\\\Users\\\\Ashu\\\\Desktop\\\\Project\\\\sample2\\\\sample2.txt\", 'w')\n",
    "    f.write(s)\n",
    "    f.close()\n",
    "print(s)\n",
    "elapsed_time = time.time() - start_time\n",
    "print(\"Time Consumed : \",elapsed_time)"
   ]
  },
  {
   "cell_type": "code",
   "execution_count": 52,
   "metadata": {},
   "outputs": [
    {
     "name": "stdout",
     "output_type": "stream",
     "text": [
      "{'item': 17, 'library': 3, 'barcode': 4, 'could': 2, 'electronic': 2, 'reader': 2, 'barcoded': 2, 'record': 2}\n"
     ]
    }
   ],
   "source": [
    "accu_2 = {}\n",
    "data = open(\"C:\\\\Users\\\\Ashu\\\\Desktop\\\\Project\\\\sample2\\\\sample2.txt\",\"r\")\n",
    "file = data.read()\n",
    "\n",
    "word_data = open(\"C:\\\\Users\\\\Ashu\\\\Desktop\\\\Project\\\\sample2\\\\result221.csv\", 'r')\n",
    "data = word_data.read()\n",
    "words = data.split(\"\\n\")\n",
    "words.remove('')\n",
    "for i in words:\n",
    "    if i in file:\n",
    "        accu_2[i] = file.count(i) \n",
    "print(accu_2)"
   ]
  },
  {
   "cell_type": "code",
   "execution_count": 53,
   "metadata": {},
   "outputs": [],
   "source": [
    "import matplotlib.pyplot as plt"
   ]
  },
  {
   "cell_type": "code",
   "execution_count": 54,
   "metadata": {},
   "outputs": [
    {
     "data": {
      "image/png": "[encoded data removed]",
      "text/plain": [
       "<Figure size 432x288 with 1 Axes>"
      ]
     },
     "metadata": {
      "needs_background": "light"
     },
     "output_type": "display_data"
    },
    {
     "data": {
      "image/png": "[encoded data removed]",
      "text/plain": [
       "<Figure size 432x288 with 1 Axes>"
      ]
     },
     "metadata": {
      "needs_background": "light"
     },
     "output_type": "display_data"
    }
   ],
   "source": [
    "val1 = accu_1.values()\n",
    "key1 = accu_1.keys()\n",
    "\n",
    "key2 = accu_2.keys()\n",
    "val2 = accu_2.values()\n",
    "\n",
    "plt.bar(key1,val1)\n",
    "plt.show()\n",
    "\n",
    "plt.bar(key2,val2)\n",
    "plt.show()"
   ]
  },
  {
   "cell_type": "code",
   "execution_count": null,
   "metadata": {},
   "outputs": [],
   "source": []
  }
 ],
 "metadata": {
  "kernelspec": {
   "display_name": "Python 3 (ipykernel)",
   "language": "python",
   "name": "python3"
  },
  "language_info": {
   "codemirror_mode": {
    "name": "ipython",
    "version": 3
   },
   "file_extension": ".py",
   "mimetype": "text/x-python",
   "name": "python",
   "nbconvert_exporter": "python",
   "pygments_lexer": "ipython3",
   "version": "3.9.7"
  }
 },
 "nbformat": 4,
 "nbformat_minor": 2
}
